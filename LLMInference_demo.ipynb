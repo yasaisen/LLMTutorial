{
 "cells": [
  {
   "cell_type": "code",
   "execution_count": 1,
   "metadata": {},
   "outputs": [
    {
     "name": "stderr",
     "output_type": "stream",
     "text": [
      "/home/yasaisen/anaconda3/envs/LLMTutorial/lib/python3.10/site-packages/tqdm/auto.py:21: TqdmWarning: IProgress not found. Please update jupyter and ipywidgets. See https://ipywidgets.readthedocs.io/en/stable/user_install.html\n",
      "  from .autonotebook import tqdm as notebook_tqdm\n"
     ]
    }
   ],
   "source": [
    "import torch\n",
    "from transformers import AutoTokenizer, AutoModelForCausalLM"
   ]
  },
  {
   "cell_type": "code",
   "execution_count": 2,
   "metadata": {},
   "outputs": [],
   "source": [
    "def create_model(\n",
    "    lm_model_name = \"google/gemma-3-4b-it\", \n",
    "    device = 'cuda' if torch.cuda.is_available() else 'cpu',\n",
    "):\n",
    "    tokenizer = AutoTokenizer.from_pretrained(lm_model_name)\n",
    "    model = AutoModelForCausalLM.from_pretrained(\n",
    "        lm_model_name,\n",
    "        device_map=\"auto\",\n",
    "    ).to(device).eval()\n",
    "\n",
    "    return model, tokenizer"
   ]
  },
  {
   "cell_type": "code",
   "execution_count": 3,
   "metadata": {},
   "outputs": [],
   "source": [
    "def lm_template(\n",
    "    text: str, \n",
    "    system_prompt: str = \"You are a helpful assistant.\", \n",
    "):\n",
    "    return [\n",
    "        {\n",
    "            \"role\": \"system\",\n",
    "            \"content\": [{\"type\": \"text\", \"text\": system_prompt}]\n",
    "        },\n",
    "        {\n",
    "            \"role\": \"user\",\n",
    "            \"content\": [{\"type\": \"text\", \"text\": text}]\n",
    "        }\n",
    "    ]"
   ]
  },
  {
   "cell_type": "code",
   "execution_count": 4,
   "metadata": {},
   "outputs": [],
   "source": [
    "@torch.inference_mode()\n",
    "def generate(\n",
    "    prompt, \n",
    "    tokenizer, \n",
    "    model, \n",
    "    max_new_tokens: int = 256, \n",
    "    temperature: float = 1,\n",
    "):\n",
    "    inputs = tokenizer.apply_chat_template(\n",
    "        prompt, \n",
    "        add_generation_prompt=True, \n",
    "        tokenize=True,\n",
    "        return_dict=True, \n",
    "        return_tensors=\"pt\",\n",
    "    )\n",
    "    inputs = {\n",
    "        k: (\n",
    "            v.to(model.device, dtype=model.dtype)\n",
    "            if v.dtype.is_floating_point else v.to(model.device)\n",
    "        )\n",
    "        for k, v in inputs.items()\n",
    "    }\n",
    "\n",
    "    input_len = inputs[\"input_ids\"].shape[-1]\n",
    "\n",
    "    max_len = int(model.config.text_config.max_position_embeddings)\n",
    "    if input_len > max_len:\n",
    "        raise ValueError(\n",
    "            f\"Input length {input_len} exceeds maximum allowed length of {max_len} tokens.\"\n",
    "        )\n",
    "\n",
    "    generation = model.generate(\n",
    "        **inputs, \n",
    "        max_new_tokens=max_new_tokens, \n",
    "        do_sample=True, \n",
    "        temperature=temperature, \n",
    "    )\n",
    "    generation = generation[0][input_len:]\n",
    "\n",
    "    response = tokenizer.decode(\n",
    "        generation, \n",
    "        skip_special_tokens=True\n",
    "    )\n",
    "\n",
    "    return response"
   ]
  },
  {
   "cell_type": "code",
   "execution_count": null,
   "metadata": {},
   "outputs": [],
   "source": []
  },
  {
   "cell_type": "code",
   "execution_count": 5,
   "metadata": {},
   "outputs": [
    {
     "name": "stderr",
     "output_type": "stream",
     "text": [
      "Loading checkpoint shards: 100%|██████████| 2/2 [00:02<00:00,  1.14s/it]\n"
     ]
    }
   ],
   "source": [
    "model, tokenizer = create_model(\n",
    "    lm_model_name=\"google/gemma-3-4b-it\"\n",
    ")"
   ]
  },
  {
   "cell_type": "code",
   "execution_count": 6,
   "metadata": {},
   "outputs": [],
   "source": [
    "test_cases = [\n",
    "    \"Hello! How are you today?\", \n",
    "    \"What is 123 multiplied by 456?\",\n",
    "    \"What's the weather like today?\", \n",
    "    \"Calculate (987 + 654) * 321 / 2\",\n",
    "]"
   ]
  },
  {
   "cell_type": "code",
   "execution_count": 7,
   "metadata": {},
   "outputs": [
    {
     "name": "stdout",
     "output_type": "stream",
     "text": [
      "Start Demo!\n",
      "\n",
      "Test Case (1) ==================================================\n",
      "user input: Hello! How are you today?\n",
      "Model response: Hello there! I’m doing well, thank you for asking! As an AI, I don’t really *feel* in the same way humans do, but my systems are running smoothly and I’m ready to help you with whatever you need. 😊 \n",
      "\n",
      "How are *you* doing today? Is there anything I can assist you with?\n",
      "================================================================\n",
      "\n",
      "Test Case (2) ==================================================\n",
      "user input: What is 123 multiplied by 456?\n",
      "Model response: 123 multiplied by 456 is 56,088.\n",
      "\n",
      "Here's how to calculate that:\n",
      "\n",
      "123 * 456 = (123 * 400) + (123 * 50) + (123 * 6)\n",
      "          = 49200 + 6150 + 738\n",
      "          = 56088\n",
      "\n",
      "================================================================\n",
      "\n",
      "Test Case (3) ==================================================\n",
      "user input: What's the weather like today?\n",
      "Model response: Please tell me your location! I need to know where you are to give you an accurate weather forecast. 😊 \n",
      "\n",
      "For example, you could tell me:\n",
      "\n",
      "*   Your city and state (e.g., \"London, England\")\n",
      "*   Your zip code (e.g., \"90210\")\n",
      "================================================================\n",
      "\n",
      "Test Case (4) ==================================================\n",
      "user input: Calculate (987 + 654) * 321 / 2\n",
      "Model response: Okay, let's break this down step-by-step:\n",
      "\n",
      "1. **Calculate the sum in parentheses:** 987 + 654 = 1641\n",
      "\n",
      "2. **Multiply by 321:** 1641 * 321 = 527561\n",
      "\n",
      "3. **Divide by 2:** 527561 / 2 = 263780.5\n",
      "\n",
      "Therefore, (987 + 654) * 321 / 2 = **263780.5**\n",
      "================================================================\n",
      "\n",
      "\n",
      "Demo Completed!\n"
     ]
    }
   ],
   "source": [
    "print(\"Start Demo!\\n\")\n",
    "\n",
    "for i, query in enumerate(test_cases, 1):\n",
    "    print(f\"Test Case ({i}) {'=' * 50}\")\n",
    "    print(f\"user input: {query}\")\n",
    "\n",
    "    prompt = lm_template(\n",
    "        text=query\n",
    "    )\n",
    "    response = generate(\n",
    "        prompt=prompt, \n",
    "        tokenizer=tokenizer, \n",
    "        model=model, \n",
    "    )\n",
    "    print(f\"Model response: {response}\\n{'=' * 64}\\n\")\n",
    "\n",
    "print(\"\\nDemo Completed!\")"
   ]
  }
 ],
 "metadata": {
  "kernelspec": {
   "display_name": "LLMTutorial",
   "language": "python",
   "name": "python3"
  },
  "language_info": {
   "codemirror_mode": {
    "name": "ipython",
    "version": 3
   },
   "file_extension": ".py",
   "mimetype": "text/x-python",
   "name": "python",
   "nbconvert_exporter": "python",
   "pygments_lexer": "ipython3",
   "version": "3.10.18"
  },
  "orig_nbformat": 4
 },
 "nbformat": 4,
 "nbformat_minor": 2
}
